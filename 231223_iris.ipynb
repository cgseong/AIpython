{
  "nbformat": 4,
  "nbformat_minor": 0,
  "metadata": {
    "colab": {
      "private_outputs": true,
      "provenance": [],
      "authorship_tag": "ABX9TyO3y7uA9PfWrDJycFCK/zpb",
      "include_colab_link": true
    },
    "kernelspec": {
      "name": "python3",
      "display_name": "Python 3"
    },
    "language_info": {
      "name": "python"
    }
  },
  "cells": [
    {
      "cell_type": "markdown",
      "metadata": {
        "id": "view-in-github",
        "colab_type": "text"
      },
      "source": [
        "<a href=\"https://colab.research.google.com/github/cgseong/AIpython/blob/master/231223_iris.ipynb\" target=\"_parent\"><img src=\"https://colab.research.google.com/assets/colab-badge.svg\" alt=\"Open In Colab\"/></a>"
      ]
    },
    {
      "cell_type": "code",
      "execution_count": null,
      "metadata": {
        "id": "Dlf7UjseLUvV"
      },
      "outputs": [],
      "source": [
        "import numpy as np\n",
        "import pandas as pd\n",
        "import matplotlib.pyplot as plt\n",
        "import seaborn as sns"
      ]
    },
    {
      "cell_type": "code",
      "source": [
        "from sklearn.datasets import load_iris\n",
        "iris = load_iris()"
      ],
      "metadata": {
        "id": "Le5jeeDPvUbh"
      },
      "execution_count": null,
      "outputs": []
    },
    {
      "cell_type": "code",
      "source": [
        "iris_df = pd.DataFrame(iris.data, columns=iris.feature_names)\n",
        "iris_df['class'] = iris.target"
      ],
      "metadata": {
        "id": "bwCckThcvrtp"
      },
      "execution_count": null,
      "outputs": []
    },
    {
      "cell_type": "markdown",
      "source": [
        "### scikit-learn 내장 데이터셋의 구성\n",
        "\n",
        "* scikit-learn의 dataset은 딕셔너리 형태의 Bunch 클래스 객체이다.\n",
        " *   keys() 함수로 key값들을 조회\n",
        "\n",
        "* 구성\n",
        " *   target_name: 예측하려는 값(class)을 가진 문자열 배열\n",
        " *   target: Label(출력데이터)\n",
        " *   data: Feature(입력변수)\n",
        " *   feature_names: 입력변수 각 항목의 이름\n",
        " *   DESCR: 데이터셋에 대한 설명\n",
        "\n",
        "\n"
      ],
      "metadata": {
        "id": "MrDDBXJswS8N"
      }
    },
    {
      "cell_type": "code",
      "source": [
        "iris_df"
      ],
      "metadata": {
        "id": "FLp73f_WONtP"
      },
      "execution_count": null,
      "outputs": []
    },
    {
      "cell_type": "code",
      "source": [
        "iris_df.tail() #df.head()"
      ],
      "metadata": {
        "id": "GjWcO-YWv-7N"
      },
      "execution_count": null,
      "outputs": []
    },
    {
      "cell_type": "code",
      "source": [
        "iris_df.shape"
      ],
      "metadata": {
        "id": "smGBKjRIOQHT"
      },
      "execution_count": null,
      "outputs": []
    },
    {
      "cell_type": "code",
      "source": [
        "iris_df.columns"
      ],
      "metadata": {
        "id": "ZzCSb2g7OR-j"
      },
      "execution_count": null,
      "outputs": []
    },
    {
      "cell_type": "code",
      "source": [
        "iris_df.info()"
      ],
      "metadata": {
        "id": "Uts5MH7cOzkr"
      },
      "execution_count": null,
      "outputs": []
    },
    {
      "cell_type": "code",
      "source": [
        "iris_df.describe()"
      ],
      "metadata": {
        "id": "ZwvZ7G-zPFcK"
      },
      "execution_count": null,
      "outputs": []
    },
    {
      "cell_type": "code",
      "source": [
        "# import 모델\n",
        "import numpy as np\n",
        "\n",
        "# 데이터를 나눠준다.\n",
        "from sklearn.model_selection import train_test_split\n",
        "\n",
        "# 모델\n",
        "from sklearn.tree import DecisionTreeClassifier # 의사결정나무 모델\n",
        "from sklearn.ensemble import RandomForestClassifier # 랜덤 포레스트 모델\n",
        "from sklearn import svm # 서포트 벡터 머신 모델\n",
        "\n",
        "from sklearn.metrics import accuracy_score # 정확도\n",
        "from sklearn.metrics import classification_report # 분류 리포트\n",
        "\n",
        "X = iris['data']\n",
        "y = iris['target']\n",
        "\n",
        "# 모델생성\n",
        "clf = DecisionTreeClassifier()\n",
        "\n",
        "# 모델 학습 시키기\n",
        "clf.fit(X, y) # fit=> 데이터 학습\n",
        "\n",
        "\n",
        "#추론=> 내가 본 Iris꽃의 꽃잎/꽃받침의 길이,너비를 재서 종류를 예측한다.\n",
        "\n",
        "# 1개 꽃을 추론\n",
        "new_data = np.array([[5, 3.5, 1.4, 0.25]])\n",
        "new_data.shape\n",
        "# 결과 (1, 4)\n",
        "\n",
        "pred = clf.predict(new_data) # predict=> 예측\n",
        "pred # 결과 array([0])\n",
        "\n",
        "# 결과 후처리 : class->class name\n",
        "iris['target_names'][pred]\n",
        "# 결과 array(['setosa'], dtype='<U10')"
      ],
      "metadata": {
        "id": "ZSPNsrDfRHsp"
      },
      "execution_count": null,
      "outputs": []
    },
    {
      "cell_type": "code",
      "source": [
        "from sklearn.datasets import load_iris\n",
        "from sklearn.model_selection import train_test_split\n",
        "from sklearn.tree import DecisionTreeClassifier\n",
        "from sklearn.metrics import accuracy_score, confusion_matrix\n",
        "\n",
        "import numpy as np\n",
        "\n",
        "iris = load_iris()\n",
        "X, y = iris.data, iris.target\n",
        "X.shape, y.shape # 결과 ((150, 4), (150,))\n",
        "\n",
        "X_train, X_test, y_train, y_test = train_test_split(X,\n",
        "                                                    y,\n",
        "                                                    test_size=0.2,\n",
        "                                                    stratify=y,\n",
        "                                                    shuffle=True,\n",
        "                                                    random_state=0\n",
        "                                                   )\n",
        "\n",
        "X_train.shape, X_test.shape, y_train.shape, y_test.shape\n",
        "# 데이터를 분할할 때, 각 분할에 특정한 특징이나 속성을 균등하게 유지하기 위해 사용되는 개념\n",
        "# 결과 ((120, 4), (30, 4), (120,), (30,))\n",
        "#모델생성\n",
        "clf = DecisionTreeClassifier()\n",
        "#모델학습\n",
        "clf.fit(X_train, y_train)\n",
        "#평가\n",
        "\n",
        "#정확도(accuracy)\n",
        "#accuracy_score() 함수 이용\n",
        "#전체 예측한 개수 중 맞춘 개수의 비율\n",
        "pred = clf.predict(X_test)\n",
        "pred\n",
        "# 결과\n",
        "#array([0, 1, 0, 2, 0, 1, 2, 0, 0, 1, 2, 1, 1, 2, 1, 2, 2, 1, 1, 0, 0, 2, 2, 1, 0, 1, 1, 2, 0, 0])\n",
        "\n",
        "y_test\n",
        "# 결과\n",
        "#array([0, 1, 0, 2, 0, 1, 2, 0, 0, 1, 2, 1, 1, 2, 1, 2, 2, 1, 1, 0, 0, 2, 2, 2, 0, 1, 1, 2, 0, 0])\n",
        "\n",
        "np.sum(pred == y_test)/y_test.size\n",
        "# 결과 0.9666666666666667\n",
        "\n",
        "accuracy_score(y_test, pred)\n",
        "# 결과 0.9666666666666667\n"
      ],
      "metadata": {
        "id": "rmEnH9gbbcFW"
      },
      "execution_count": null,
      "outputs": []
    }
  ]
}