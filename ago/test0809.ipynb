{
  "nbformat": 4,
  "nbformat_minor": 0,
  "metadata": {
    "colab": {
      "private_outputs": true,
      "provenance": [],
      "authorship_tag": "ABX9TyPk0kgoWw7kCjj9AfzgbOlz",
      "include_colab_link": true
    },
    "kernelspec": {
      "name": "python3",
      "display_name": "Python 3"
    },
    "language_info": {
      "name": "python"
    }
  },
  "cells": [
    {
      "cell_type": "markdown",
      "metadata": {
        "id": "view-in-github",
        "colab_type": "text"
      },
      "source": [
        "<a href=\"https://colab.research.google.com/github/cgseong/test/blob/master/test0809.ipynb\" target=\"_parent\"><img src=\"https://colab.research.google.com/assets/colab-badge.svg\" alt=\"Open In Colab\"/></a>"
      ]
    },
    {
      "cell_type": "code",
      "source": [
        "import numpy as np\n",
        "import matplotlib.pyplot as plt\n",
        "from skimage import io, color\n",
        "from sklearn.decomposition import PCA\n",
        "\n",
        "# 이미지를 흑백으로 로드하는 함수\n",
        "def load_grayscale_image(image_path):\n",
        "    image = io.imread(image_path)\n",
        "    if len(image.shape) > 2:\n",
        "        # 이미지가 RGB 색상이면 흑백으로 변환\n",
        "        image = color.rgb2gray(image)\n",
        "    return image\n",
        "\n",
        "# 이미지 로드\n",
        "image_path = './image_path_here.jpg'\n",
        "\n",
        "# 이미지 파일 경로를 입력하세요\n",
        "image = load_grayscale_image(image_path)\n",
        "\n",
        "# 원본 이미지 시각화\n",
        "plt.figure(figsize=(4, 4))\n",
        "plt.imshow(image, cmap='gray')\n",
        "plt.title('원본 이미지')\n",
        "plt.axis('off')\n",
        "plt.show()\n",
        "\n",
        "# 이미지 데이터를 1차원으로 변환\n",
        "height, width = image.shape\n",
        "image_vector = image.reshape(height * width)\n",
        "\n",
        "# PCA 객체 생성 및 데이터 변환\n",
        "pca = PCA(n_components=50)\n",
        "\n",
        "# 50차원으로 데이터를 축소\n",
        "transformed_data = pca.fit_transform([image_vector])\n",
        "\n",
        "# 변환된 데이터를 다시 2차원 이미지로 복원\n",
        "restored_data = pca.inverse_transform(transformed_data)\n",
        "restored_image = restored_data.reshape(height, width)\n",
        "\n",
        "# 변환된 이미지 시각화\n",
        "plt.figure(figsize=(4, 4))\n",
        "plt.imshow(restored_image, cmap='gray')\n",
        "plt.title('PCA를 적용한 이미지')\n",
        "plt.axis('off')\n",
        "plt.show()"
      ],
      "metadata": {
        "id": "NgNkct-FNdh3"
      },
      "execution_count": null,
      "outputs": []
    }
  ]
}
