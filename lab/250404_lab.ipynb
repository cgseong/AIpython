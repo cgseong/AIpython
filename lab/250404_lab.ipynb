{
 "cells": [
  {
   "cell_type": "code",
   "execution_count": null,
   "id": "5d4a5102-cf62-4b60-b04b-825cf9062552",
   "metadata": {},
   "outputs": [],
   "source": [
    "#다음 리스트에서 중복을 제거한 후 오름차순으로 정렬하세요\n",
    "숫자들 = [3, 1, 4, 1, 5, 9, 2, 6, 5, 3, 5]"
   ]
  },
  {
   "cell_type": "code",
   "execution_count": null,
   "id": "991fe046-c870-496e-aefd-38228b18d8ab",
   "metadata": {},
   "outputs": [],
   "source": [
    "#두 리스트를 하나로 합친 후, 모든 항목의 합을 구하세요\n",
    "리스트1 = [1, 2, 3, 4]\n",
    "리스트2 = [5, 6, 7, 8]"
   ]
  },
  {
   "cell_type": "code",
   "execution_count": null,
   "id": "3a6080c5-acea-4468-89b5-6c14c026bb93",
   "metadata": {},
   "outputs": [],
   "source": [
    "#다음 학생 이름 리스트와 점수 리스트를 사용하여, 85점 이상인 학생의 이름만 출력하세요\n",
    "학생들 = [\"철수\", \"영희\", \"민수\", \"지영\", \"동훈\"]\n",
    "점수들 = [78, 95, 68, 87, 92]"
   ]
  },
  {
   "cell_type": "code",
   "execution_count": null,
   "id": "9e6e0c68-a549-4b9a-a59f-e98d55d68531",
   "metadata": {},
   "outputs": [],
   "source": [
    "#다음 과일 가격 딕셔너리에서 가장 비싼 과일과 가장 싼 과일을 찾으세요.\n",
    "과일_가격 = {\n",
    "    \"사과\": 1500,\n",
    "    \"바나나\": 3000,\n",
    "    \"딸기\": 8000,\n",
    "    \"포도\": 5000,\n",
    "    \"오렌지\": 2000\n",
    "}"
   ]
  },
  {
   "cell_type": "code",
   "execution_count": null,
   "id": "3218276f-9054-4e13-b5af-2aca2f81007f",
   "metadata": {},
   "outputs": [],
   "source": [
    "#다음 학생 성적 딕셔너리를 사용하여 각 학생의 평균 점수를 계산하고, 평균이 90점 이상인 학생의 이름을 출력하세요.\n",
    "학생_성적 = {\n",
    "    \"김철수\": {\"국어\": 85, \"수학\": 90, \"영어\": 78},\n",
    "    \"이영희\": {\"국어\": 92, \"수학\": 96, \"영어\": 85},\n",
    "    \"박민수\": {\"국어\": 75, \"수학\": 80, \"영어\": 92},\n",
    "    \"최지영\": {\"국어\": 90, \"수학\": 92, \"영어\": 98}\n",
    "}"
   ]
  }
 ],
 "metadata": {
  "kernelspec": {
   "display_name": "Python 3 (ipykernel)",
   "language": "python",
   "name": "python3"
  },
  "language_info": {
   "codemirror_mode": {
    "name": "ipython",
    "version": 3
   },
   "file_extension": ".py",
   "mimetype": "text/x-python",
   "name": "python",
   "nbconvert_exporter": "python",
   "pygments_lexer": "ipython3",
   "version": "3.12.6"
  }
 },
 "nbformat": 4,
 "nbformat_minor": 5
}
