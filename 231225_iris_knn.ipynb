{
  "nbformat": 4,
  "nbformat_minor": 0,
  "metadata": {
    "colab": {
      "private_outputs": true,
      "provenance": [],
      "authorship_tag": "ABX9TyN2+7c1l/kR2wGHTBkG8/Ex",
      "include_colab_link": true
    },
    "kernelspec": {
      "name": "python3",
      "display_name": "Python 3"
    },
    "language_info": {
      "name": "python"
    }
  },
  "cells": [
    {
      "cell_type": "markdown",
      "metadata": {
        "id": "view-in-github",
        "colab_type": "text"
      },
      "source": [
        "<a href=\"https://colab.research.google.com/github/cgseong/AIpython/blob/master/231225_iris_knn.ipynb\" target=\"_parent\"><img src=\"https://colab.research.google.com/assets/colab-badge.svg\" alt=\"Open In Colab\"/></a>"
      ]
    },
    {
      "cell_type": "code",
      "execution_count": null,
      "metadata": {
        "id": "EWzgQPP4Ec-a"
      },
      "outputs": [],
      "source": [
        "#필요한 라이브러리 불러오기\n",
        "from sklearn.datasets import load_iris\n",
        "from sklearn.model_selection import train_test_split\n",
        "from sklearn.neighbors import KNeighborsClassifier\n",
        "from sklearn.metrics import accuracy_score\n",
        "\n",
        "#데이터 세트 불러오기\n",
        "iris = load_iris()\n",
        "X=iris.data   #입력 특성\n",
        "y=iris.target #타깃 변수\n",
        "\n",
        "#데이터 세트를 훈련 세트와 테슽트 세트로 분할\n",
        "X_train, X_test, y_train, y_test = train_test_split(X,y,test_size=0.2,random_state=42)\n",
        "\n",
        "#K-최근접 이웃 알고리즘 모델 생성\n",
        "knn=KNeighborsClassifier(n_neighbors=3)\n",
        "\n",
        "#모델 훈련\n",
        "knn.fit(X_train,y_train)\n",
        "\n",
        "#테스트 세트에 대한 예측\n",
        "y_pred=knn.predict(X_test)\n",
        "\n",
        "#정확도 계산\n",
        "\n",
        "accuracy=accuracy_score(y_test,y_pred)\n",
        "print(\"Acurracy: \", accuracy)"
      ]
    }
  ]
}