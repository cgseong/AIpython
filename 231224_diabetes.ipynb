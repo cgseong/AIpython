{
  "nbformat": 4,
  "nbformat_minor": 0,
  "metadata": {
    "colab": {
      "private_outputs": true,
      "provenance": [],
      "authorship_tag": "ABX9TyPT4I1IoAlpf6+LpaiE3Ht5",
      "include_colab_link": true
    },
    "kernelspec": {
      "name": "python3",
      "display_name": "Python 3"
    },
    "language_info": {
      "name": "python"
    }
  },
  "cells": [
    {
      "cell_type": "markdown",
      "metadata": {
        "id": "view-in-github",
        "colab_type": "text"
      },
      "source": [
        "<a href=\"https://colab.research.google.com/github/cgseong/AIpython/blob/master/231224_diabetes.ipynb\" target=\"_parent\"><img src=\"https://colab.research.google.com/assets/colab-badge.svg\" alt=\"Open In Colab\"/></a>"
      ]
    },
    {
      "cell_type": "code",
      "execution_count": null,
      "metadata": {
        "id": "pPiPo7tRdn-5"
      },
      "outputs": [],
      "source": [
        "from sklearn.datasets import load_diabetes"
      ]
    },
    {
      "cell_type": "code",
      "source": [
        "diabetes=load_diabetes()"
      ],
      "metadata": {
        "id": "U5iPu_vPeGaV"
      },
      "execution_count": null,
      "outputs": []
    },
    {
      "cell_type": "code",
      "source": [
        "print(diabetes.DESCR)"
      ],
      "metadata": {
        "id": "0_RCM-qtj6hi"
      },
      "execution_count": null,
      "outputs": []
    },
    {
      "cell_type": "code",
      "source": [
        "print(diabetes.feature_names)"
      ],
      "metadata": {
        "id": "Ny2at0aAd6Cd"
      },
      "execution_count": null,
      "outputs": []
    },
    {
      "cell_type": "code",
      "source": [
        "print(diabetes.target) #1년 후의 당뇨병이 진전된 정도를 나타냄, 연속적인 실수값"
      ],
      "metadata": {
        "id": "Gx3w245ueB_0"
      },
      "execution_count": null,
      "outputs": []
    },
    {
      "cell_type": "code",
      "source": [
        "print(diabetes.data)"
      ],
      "metadata": {
        "id": "RKfLvHi5l9zf"
      },
      "execution_count": null,
      "outputs": []
    },
    {
      "cell_type": "code",
      "source": [
        "import pandas as pd\n",
        "diabetes_df=pd.DataFrame(data=diabetes.data, columns=diabetes.feature_names)\n",
        "diabetes_df['target']=diabetes.target #특성과 타깃 변수를 포함한 데이터프레임으로 변환\n",
        "diabetes_df.head()"
      ],
      "metadata": {
        "id": "Bbu-ccFatdh6"
      },
      "execution_count": null,
      "outputs": []
    },
    {
      "cell_type": "markdown",
      "source": [
        "1. 데이터 프레임의 전체 크기(행의 수)\n",
        "2.각 열의 이름\n",
        "3.각 열에 포함된 비어 있는 값(null 또는 NaN)의 개수\n",
        "4.갈 열의 데이터 타입(정수, 실수, 문자열)\n",
        "\n",
        "\n",
        "\n"
      ],
      "metadata": {
        "id": "E2SFwyanvMpj"
      }
    },
    {
      "cell_type": "code",
      "source": [
        "diabetes_df.info()"
      ],
      "metadata": {
        "id": "HylCQv3UuM0x"
      },
      "execution_count": null,
      "outputs": []
    },
    {
      "cell_type": "markdown",
      "source": [
        "* 특성(피처)들과 타깃 간의 상관계수를 표현\n",
        "* 0에 가까울수록 상관관계가 약하고 1에 가까울수룩 상관관계가 강하다."
      ],
      "metadata": {
        "id": "8AMOdxK8wNHw"
      }
    },
    {
      "cell_type": "code",
      "source": [
        "diabetes_corr=diabetes_df.corr()"
      ],
      "metadata": {
        "id": "YYlDAvbMwlbA"
      },
      "execution_count": null,
      "outputs": []
    },
    {
      "cell_type": "code",
      "source": [
        "corr_order=diabetes_df.loc[:'s6'].corrwith(diabetes_df.target).abs().sort_values(ascending=False)"
      ],
      "metadata": {
        "id": "Hpbd8Nn2wtXY"
      },
      "execution_count": null,
      "outputs": []
    },
    {
      "cell_type": "code",
      "source": [
        "print(corr_order)"
      ],
      "metadata": {
        "id": "uTMehsbxzjQo"
      },
      "execution_count": null,
      "outputs": []
    },
    {
      "cell_type": "code",
      "source": [
        "import matplotlib.pyplot as plt\n",
        "import seaborn as sns"
      ],
      "metadata": {
        "id": "pi_v6Spv0SAA"
      },
      "execution_count": null,
      "outputs": []
    },
    {
      "cell_type": "code",
      "source": [
        "names=['target','bmi','s5']\n",
        "diabetes_df_1=diabetes_df.loc[:,names]\n",
        "plt.figure(figsize=(16,6))\n",
        "for i, name in enumerate(names[1:]):\n",
        "    ax=plt.subplot(1,2, i+1)\n",
        "    sns.regplot(x=name, y=names[0], data=diabetes_df_1, ax=ax)\n",
        "plt.show()"
      ],
      "metadata": {
        "id": "vkYt8e0ZzxvX"
      },
      "execution_count": null,
      "outputs": []
    },
    {
      "cell_type": "code",
      "source": [],
      "metadata": {
        "id": "V9KXh3NE0kIF"
      },
      "execution_count": null,
      "outputs": []
    }
  ]
}